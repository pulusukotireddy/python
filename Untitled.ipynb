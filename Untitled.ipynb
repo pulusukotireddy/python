{
 "cells": [
  {
   "cell_type": "code",
   "execution_count": 8,
   "metadata": {},
   "outputs": [
    {
     "name": "stdout",
     "output_type": "stream",
     "text": [
      "hello\n",
      "welcome\n"
     ]
    }
   ],
   "source": [
    "def mess():\n",
    "    print(\"hello\")\n",
    "    print(\"welcome\")\n",
    "mess()"
   ]
  },
  {
   "cell_type": "code",
   "execution_count": 6,
   "metadata": {},
   "outputs": [
    {
     "name": "stdout",
     "output_type": "stream",
     "text": [
      "enter first value:20\n",
      "enter second value:40\n",
      "60\n"
     ]
    }
   ],
   "source": [
    "def addition(a,b):\n",
    "    z=a+b\n",
    "    return z\n",
    "a=int(input(\"enter first value:\"))\n",
    "b=int(input(\"enter second value:\"))\n",
    "#c=additi\n",
    "print(addition(a,b))"
   ]
  },
  {
   "cell_type": "code",
   "execution_count": 12,
   "metadata": {},
   "outputs": [
    {
     "name": "stdout",
     "output_type": "stream",
     "text": [
      "email:hello\n",
      "gmail:hello\n"
     ]
    }
   ],
   "source": [
    "def function(request):\n",
    "    print(request+\"hello\")\n",
    "function(\"email:\")\n",
    "function(\"gmail:\")"
   ]
  },
  {
   "cell_type": "code",
   "execution_count": 16,
   "metadata": {},
   "outputs": [
    {
     "name": "stdout",
     "output_type": "stream",
     "text": [
      "i am from juntu\n",
      "i am from kukatpally\n"
     ]
    }
   ],
   "source": [
    "def function(request=\"hyd\"):\n",
    "    print(\"i am from \"+ request)\n",
    "function(\"juntu\")\n",
    "function(\"kukatpally\")"
   ]
  },
  {
   "cell_type": "code",
   "execution_count": 18,
   "metadata": {},
   "outputs": [
    {
     "name": "stdout",
     "output_type": "stream",
     "text": [
      "python\n",
      "java\n",
      "c++\n"
     ]
    }
   ],
   "source": [
    "def function(request):\n",
    "    for i in request:\n",
    "        print(i)\n",
    "c=[\"python\",\"java\",\"c++\"]\n",
    "function(c)"
   ]
  },
  {
   "cell_type": "code",
   "execution_count": 20,
   "metadata": {},
   "outputs": [
    {
     "name": "stdout",
     "output_type": "stream",
     "text": [
      "30\n"
     ]
    }
   ],
   "source": [
    "def function(req):\n",
    "    return 15*req\n",
    "print(function(2))"
   ]
  },
  {
   "cell_type": "code",
   "execution_count": null,
   "metadata": {},
   "outputs": [],
   "source": []
  }
 ],
 "metadata": {
  "kernelspec": {
   "display_name": "Python 3",
   "language": "python",
   "name": "python3"
  },
  "language_info": {
   "codemirror_mode": {
    "name": "ipython",
    "version": 3
   },
   "file_extension": ".py",
   "mimetype": "text/x-python",
   "name": "python",
   "nbconvert_exporter": "python",
   "pygments_lexer": "ipython3",
   "version": "3.7.4"
  }
 },
 "nbformat": 4,
 "nbformat_minor": 2
}
