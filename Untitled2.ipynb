{
 "cells": [
  {
   "cell_type": "code",
   "execution_count": 5,
   "metadata": {},
   "outputs": [
    {
     "name": "stdout",
     "output_type": "stream",
     "text": [
      "enter a digit 0 to 9:  15\n",
      "enter 0-9\n"
     ]
    }
   ],
   "source": [
    "n=int(input(\"enter a digit 0 to 9:  \"))\n",
    "if n==0:\n",
    "    print(\"zero\")\n",
    "elif n==1:\n",
    "    print(\"one\")\n",
    "elif n==2:\n",
    "    print(\"two\")\n",
    "else:\n",
    "    print(\"enter 0-9\")"
   ]
  },
  {
   "cell_type": "code",
   "execution_count": 11,
   "metadata": {},
   "outputs": [
    {
     "name": "stdout",
     "output_type": "stream",
     "text": [
      "enter 0-5 only2\n"
     ]
    },
    {
     "data": {
      "text/plain": [
       "'two'"
      ]
     },
     "execution_count": 11,
     "metadata": {},
     "output_type": "execute_result"
    }
   ],
   "source": [
    "l=[\"zero\",\"one\",\"two\",\"three\",\"four\",\"five\"]\n",
    "n=int(input(\"enter 0-5 only\"))\n",
    "(l[n])"
   ]
  },
  {
   "cell_type": "code",
   "execution_count": 24,
   "metadata": {},
   "outputs": [
    {
     "name": "stdout",
     "output_type": "stream",
     "text": [
      "enter number 0-99:55\n",
      "fiftyfive\n"
     ]
    }
   ],
   "source": [
    "w19=[\"\",\"one\",\"two\",\"three\",\"four\",\"five\",\"six\",\"seven\",\"eight\",\"nine\",\"ten\",\"eleven\",\"twelve\",\"therteen\"]\n",
    "w99=[\"\",\"\",\"twenty\",\"therty\",\"fourty\",\"fifty\",\"sixty\",\"seventy\",\"eighty\",\"ninety\"]\n",
    "n=int(input(\"enter number 0-99:\"))\n",
    "if n==0:\n",
    "    print(\"zero\")\n",
    "elif n<=19:\n",
    "    print(w19[n])\n",
    "elif n<=99:\n",
    "    print(w99[n//10]+w19[n%10])\n"
   ]
  },
  {
   "cell_type": "code",
   "execution_count": 6,
   "metadata": {},
   "outputs": [
    {
     "data": {
      "text/plain": [
       "'ydderitok'"
      ]
     },
     "execution_count": 6,
     "metadata": {},
     "output_type": "execute_result"
    }
   ],
   "source": [
    "s=\"kotireddy\"\n",
    "k=s[::-1]\n",
    "k"
   ]
  },
  {
   "cell_type": "code",
   "execution_count": 23,
   "metadata": {},
   "outputs": [
    {
     "name": "stdout",
     "output_type": "stream",
     "text": [
      "enter string:kotireddy\n"
     ]
    },
    {
     "data": {
      "text/plain": [
       "'ydderitok'"
      ]
     },
     "execution_count": 23,
     "metadata": {},
     "output_type": "execute_result"
    }
   ],
   "source": [
    "s=input(\"enter string:\")\n",
    "k=reversed(s)\n",
    "l=\"\".join(k)\n",
    "l"
   ]
  },
  {
   "cell_type": "code",
   "execution_count": 38,
   "metadata": {},
   "outputs": [
    {
     "name": "stdout",
     "output_type": "stream",
     "text": [
      "enter namekotireddy\n",
      "ydderitok\n"
     ]
    }
   ],
   "source": [
    "s=input(\"enter name\")\n",
    "l=len(s)-1\n",
    "k=\"\"\n",
    "while l>=0:\n",
    "    k=k+s[l]\n",
    "    l=l-1\n",
    "print(k)"
   ]
  },
  {
   "cell_type": "code",
   "execution_count": 44,
   "metadata": {},
   "outputs": [
    {
     "name": "stdout",
     "output_type": "stream",
     "text": [
      "enter a stringhi hello welcome to python\n",
      "['hi', 'hello', 'welcome', 'to', 'python']\n",
      "['python', 'to', 'welcome', 'hello', 'hi']\n",
      "python to welcome hello hi\n"
     ]
    }
   ],
   "source": [
    "s=input(\"enter a string\")\n",
    "l=s.split()\n",
    "k=l[::-1]\n",
    "o=\" \".join(k)\n",
    "print(l)\n",
    "print(k)\n",
    "print(o)"
   ]
  },
  {
   "cell_type": "code",
   "execution_count": 52,
   "metadata": {},
   "outputs": [
    {
     "name": "stdout",
     "output_type": "stream",
     "text": [
      "enter a stringhi hello welcome to python\n",
      "['hi', 'hello', 'welcome', 'to', 'python']\n",
      "nohtyp ot emoclew olleh ih\n",
      "n o h t y p   o t   e m o c l e w   o l l e h   i h\n"
     ]
    }
   ],
   "source": [
    "s=input(\"enter a string\")\n",
    "\n",
    "k=s[::-1]\n",
    "o=\" \".join(k)\n",
    "j=s.split()\n",
    "print(j)\n",
    "print(k)\n",
    "print(o)"
   ]
  },
  {
   "cell_type": "code",
   "execution_count": 53,
   "metadata": {},
   "outputs": [
    {
     "name": "stdout",
     "output_type": "stream",
     "text": [
      "enter a string::hi hello welcome to python\n",
      "['nohtyp', 'ot', 'emoclew', 'olleh', 'ih']\n",
      "nohtyp ot emoclew olleh ih\n"
     ]
    }
   ],
   "source": [
    "s=input(\"enter a string::\")\n",
    "l=s.split()\n",
    "k=l[::-1]\n",
    "l1=[]\n",
    "for i in k:\n",
    "    l1.append(i[::-1])\n",
    "print(l1)\n",
    "z=\" \".join(l1) \n",
    "print(z)"
   ]
  },
  {
   "cell_type": "code",
   "execution_count": null,
   "metadata": {},
   "outputs": [],
   "source": [
    "s=\"hi hello welcome to python lang\"\n",
    "l=s.split()\n",
    "i=0\n",
    "l1=[]\n",
    "while i<len(l):\n",
    "    if i%2==0:\n",
    "        l1.append(l[i])\n",
    "    else:\n",
    "        l1.append(l[i][::-1])\n",
    "        i=i+1\n",
    "print(l1)"
   ]
  },
  {
   "cell_type": "code",
   "execution_count": null,
   "metadata": {},
   "outputs": [],
   "source": []
  }
 ],
 "metadata": {
  "kernelspec": {
   "display_name": "Python 3",
   "language": "python",
   "name": "python3"
  },
  "language_info": {
   "codemirror_mode": {
    "name": "ipython",
    "version": 3
   },
   "file_extension": ".py",
   "mimetype": "text/x-python",
   "name": "python",
   "nbconvert_exporter": "python",
   "pygments_lexer": "ipython3",
   "version": "3.7.4"
  }
 },
 "nbformat": 4,
 "nbformat_minor": 2
}
