{
 "cells": [
  {
   "cell_type": "code",
   "execution_count": 1,
   "metadata": {},
   "outputs": [],
   "source": [
    "import re"
   ]
  },
  {
   "cell_type": "code",
   "execution_count": null,
   "metadata": {},
   "outputs": [],
   "source": [
    "# Regular Expression == import re\n",
    "# Pattern matching\n",
    "# Digits, Ala *lower and Upper case* \n",
    "# To start any regular expression -- ^(cap)\n",
    "# To end any regular expression -- $(dollar)\n",
    "# To match the digits -- [0-9]\n",
    "# Repitations -- {}"
   ]
  },
  {
   "cell_type": "code",
   "execution_count": 5,
   "metadata": {},
   "outputs": [
    {
     "name": "stdout",
     "output_type": "stream",
     "text": [
      "True\n",
      "False\n"
     ]
    }
   ],
   "source": [
    "# Build the Python code to match\n",
    "# the two digit number\n",
    "def twoDigitNumberMatch(n):\n",
    "    pattern = \"^[0-9]{2}$\"\n",
    "    n = str(n)\n",
    "    if re.match(pattern,n):\n",
    "        return True\n",
    "    return False\n",
    "print(twoDigitNumberMatch(12)) # True\n",
    "print(twoDigitNumberMatch(123)) # False"
   ]
  },
  {
   "cell_type": "code",
   "execution_count": 6,
   "metadata": {},
   "outputs": [],
   "source": [
    "# Username Matching -- \n",
    "# Lower case and Upper case\n",
    "# [a-z]\n",
    "# [A-Z]\n",
    "# [0-9]\n",
    "# Length of Username -- Min 6\n",
    "# Max - 15----"
   ]
  },
  {
   "cell_type": "code",
   "execution_count": 7,
   "metadata": {},
   "outputs": [
    {
     "data": {
      "text/plain": [
       "False"
      ]
     },
     "execution_count": 7,
     "metadata": {},
     "output_type": "execute_result"
    }
   ],
   "source": [
    "def matchUsername(s):\n",
    "    pattern = '^[A-Z a-z 0-9 _]{6,15}$'\n",
    "    if re.match(pattern,s):\n",
    "        return True\n",
    "    return False\n",
    "matchUsername('Anil_1889') # True\n",
    "matchUsername('Anil') # False"
   ]
  }
 ],
 "metadata": {
  "kernelspec": {
   "display_name": "Python 3",
   "language": "python",
   "name": "python3"
  },
  "language_info": {
   "codemirror_mode": {
    "name": "ipython",
    "version": 3
   },
   "file_extension": ".py",
   "mimetype": "text/x-python",
   "name": "python",
   "nbconvert_exporter": "python",
   "pygments_lexer": "ipython3",
   "version": "3.7.4"
  }
 },
 "nbformat": 4,
 "nbformat_minor": 2
}
