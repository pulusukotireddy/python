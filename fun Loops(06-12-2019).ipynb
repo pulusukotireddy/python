{
 "cells": [
  {
   "cell_type": "code",
   "execution_count": 1,
   "metadata": {},
   "outputs": [
    {
     "name": "stdout",
     "output_type": "stream",
     "text": [
      "Content-Type: text/html\n",
      "\n",
      "Name of the user is: None\n"
     ]
    }
   ],
   "source": [
    "   \n",
    "    #!/usr/local/bin/python3.2\n",
    "print(\"Content-Type: text/html\")    \n",
    "print()                             \n",
    " \n",
    "import cgi,cgitb\n",
    "cgitb.enable() #for debugging\n",
    "form = cgi.FieldStorage()\n",
    "name = form.getvalue('fname')\n",
    "print(\"Name of the user is:\",name)\n"
   ]
  },
  {
   "cell_type": "code",
   "execution_count": 11,
   "metadata": {},
   "outputs": [],
   "source": [
    "hello1=hello=h=k=12"
   ]
  },
  {
   "cell_type": "code",
   "execution_count": 13,
   "metadata": {},
   "outputs": [
    {
     "name": "stdout",
     "output_type": "stream",
     "text": [
      "12\n",
      "12\n",
      "12\n",
      "12\n"
     ]
    }
   ],
   "source": [
    "print(hello1)\n",
    "print(hello)\n",
    "print(h)\n",
    "print(k)"
   ]
  },
  {
   "cell_type": "code",
   "execution_count": 16,
   "metadata": {},
   "outputs": [
    {
     "data": {
      "text/plain": [
       "5000000"
      ]
     },
     "execution_count": 16,
     "metadata": {},
     "output_type": "execute_result"
    }
   ],
   "source": [
    "five_millions = 5_000_000\n",
    "five_millions\n"
   ]
  },
  {
   "cell_type": "code",
   "execution_count": 27,
   "metadata": {},
   "outputs": [
    {
     "name": "stdout",
     "output_type": "stream",
     "text": [
      "in side the fun1 hiii\n",
      "in side the fun2 hello\n"
     ]
    }
   ],
   "source": [
    "var=\"hello\"\n",
    "def fun1():\n",
    "    var=\"hiii\"\n",
    "    print(\"in side the fun1\",var)\n",
    "def fun2():\n",
    "    print(\"in side the fun2\",var)\n",
    "fun1()\n",
    "fun2()"
   ]
  },
  {
   "cell_type": "code",
   "execution_count": 23,
   "metadata": {},
   "outputs": [
    {
     "name": "stdout",
     "output_type": "stream",
     "text": [
      "In side func1() var1 =  PHP\n",
      "In side func2() var1 =  Python\n"
     ]
    }
   ],
   "source": [
    "\n",
    "var1 = \"Python\"\n",
    "def func1():\n",
    "    var1 = \"PHP\"\n",
    "    print(\"In side func1() var1 = \",var1)\n",
    "\n",
    "def func2():\n",
    "    print(\"In side func2() var1 = \",var1)\n",
    "func1()\n",
    "func2()\n"
   ]
  },
  {
   "cell_type": "markdown",
   "metadata": {},
   "source": [
    "#  Loops\n"
   ]
  },
  {
   "cell_type": "markdown",
   "metadata": {},
   "source": [
    "## while loop"
   ]
  },
  {
   "cell_type": "code",
   "execution_count": null,
   "metadata": {},
   "outputs": [],
   "source": [
    "i=1\n",
    "while i<5:\n",
    "    print(i)\n",
    "    i=i+1\n"
   ]
  },
  {
   "cell_type": "code",
   "execution_count": null,
   "metadata": {},
   "outputs": [],
   "source": [
    "i=1\n",
    "while i<6:\n",
    "    print(i)\n",
    "    if i==3:\n",
    "        break\n",
    "    i=i+1\n",
    "        "
   ]
  },
  {
   "cell_type": "code",
   "execution_count": null,
   "metadata": {},
   "outputs": [],
   "source": []
  }
 ],
 "metadata": {
  "kernelspec": {
   "display_name": "Python 3",
   "language": "python",
   "name": "python3"
  },
  "language_info": {
   "codemirror_mode": {
    "name": "ipython",
    "version": 3
   },
   "file_extension": ".py",
   "mimetype": "text/x-python",
   "name": "python",
   "nbconvert_exporter": "python",
   "pygments_lexer": "ipython3",
   "version": "3.7.4"
  }
 },
 "nbformat": 4,
 "nbformat_minor": 2
}
