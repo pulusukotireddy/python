{
 "cells": [
  {
   "cell_type": "code",
   "execution_count": 28,
   "metadata": {},
   "outputs": [
    {
     "name": "stdout",
     "output_type": "stream",
     "text": [
      "enter mobile number98765432345678\n"
     ]
    },
    {
     "data": {
      "text/plain": [
       "'9876543234'"
      ]
     },
     "execution_count": 28,
     "metadata": {},
     "output_type": "execute_result"
    }
   ],
   "source": [
    "import re\n",
    "def number (a):\n",
    "    z=re.match(\"(9|8|7|6)[0-9]{9}|(0)[0-9]{5}|[+][91][0-9]{10}\",a)\n",
    "    return z\n",
    "a=input(\"enter mobile number\")\n",
    "number(a).group()"
   ]
  },
  {
   "cell_type": "markdown",
   "metadata": {},
   "source": [
    "# 2. Function to define to test username having 8 characters\n",
    "## (Upper Case and Lower Case)"
   ]
  },
  {
   "cell_type": "code",
   "execution_count": 21,
   "metadata": {},
   "outputs": [
    {
     "name": "stdout",
     "output_type": "stream",
     "text": [
      " enter user name:KOTI reddy\n"
     ]
    },
    {
     "data": {
      "text/plain": [
       "'KOTI red'"
      ]
     },
     "execution_count": 21,
     "metadata": {},
     "output_type": "execute_result"
    }
   ],
   "source": [
    "import re\n",
    "def number (a):\n",
    "    z=re.match(\"([a-z]|[A-Z]|\\s){8}\",a)\n",
    "    return z\n",
    "a=input(\" enter user name:\")\n",
    "number(a).group()"
   ]
  },
  {
   "cell_type": "code",
   "execution_count": null,
   "metadata": {},
   "outputs": [],
   "source": [
    "import re\n",
    "def number (a):\n",
    "    z=re.match(\"([1][3][n][e][1][a])(([a-z]|[A-Z])|[0-9]){0,15}\",a)\n",
    "    return z\n",
    "a=input(\"enter hallticket number:\")\n",
    "number(a).group()"
   ]
  },
  {
   "cell_type": "code",
   "execution_count": null,
   "metadata": {},
   "outputs": [],
   "source": [
    "import re\n",
    "def number (r):\n",
    "    z=re.match(\"(?=.*[a-z])(?=.*[A-Z])(?=.*\\d)(?=.*[@$!%*#?&])[A-Za-z\\d@$!#%*?&]{6,20}\",r)\n",
    "    return z\n",
    "r=input(\"enter password:\")\n",
    "number(r).group()"
   ]
  },
  {
   "cell_type": "code",
   "execution_count": 9,
   "metadata": {},
   "outputs": [
    {
     "name": "stdout",
     "output_type": "stream",
     "text": [
      "enter email is:pulusukotireddy@gmail.com\n"
     ]
    },
    {
     "data": {
      "text/plain": [
       "'pulusukotireddy@gmail.com'"
      ]
     },
     "execution_count": 9,
     "metadata": {},
     "output_type": "execute_result"
    }
   ],
   "source": [
    "import re\n",
    "def number (r):\n",
    "    z=re.match(\"([a-zA-Z\\d_.]+@[a-zA-Z]+.[A-Za-z]{2,20})\",r)\n",
    "    return z\n",
    "r=input(\"enter email is:\")\n",
    "number(r).group()"
   ]
  },
  {
   "cell_type": "code",
   "execution_count": null,
   "metadata": {},
   "outputs": [],
   "source": []
  }
 ],
 "metadata": {
  "kernelspec": {
   "display_name": "Python 3",
   "language": "python",
   "name": "python3"
  },
  "language_info": {
   "codemirror_mode": {
    "name": "ipython",
    "version": 3
   },
   "file_extension": ".py",
   "mimetype": "text/x-python",
   "name": "python",
   "nbconvert_exporter": "python",
   "pygments_lexer": "ipython3",
   "version": "3.7.4"
  }
 },
 "nbformat": 4,
 "nbformat_minor": 2
}
