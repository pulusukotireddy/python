{
 "cells": [
  {
   "cell_type": "markdown",
   "metadata": {},
   "source": [
    "# File Handling"
   ]
  },
  {
   "cell_type": "code",
   "execution_count": 23,
   "metadata": {},
   "outputs": [],
   "source": [
    "f=open(\"kr1.txt\",\"w\")\n",
    "f.writelines(\"hai hello \\n weclome to \\n django class\")\n"
   ]
  },
  {
   "cell_type": "code",
   "execution_count": 24,
   "metadata": {},
   "outputs": [
    {
     "data": {
      "text/plain": [
       "<_io.TextIOWrapper name='kr1.txt' mode='w' encoding='cp1252'>"
      ]
     },
     "execution_count": 24,
     "metadata": {},
     "output_type": "execute_result"
    }
   ],
   "source": [
    "f"
   ]
  },
  {
   "cell_type": "code",
   "execution_count": null,
   "metadata": {},
   "outputs": [],
   "source": []
  },
  {
   "cell_type": "code",
   "execution_count": null,
   "metadata": {},
   "outputs": [],
   "source": [
    "input=ABCD AABB ABC AAABC\n",
    "output=!@@!!!@@@@\n",
    "!@!!@@\n",
    "!@@!!!\n",
    "!@!@@!!!\n",
    "\n"
   ]
  },
  {
   "cell_type": "code",
   "execution_count": 25,
   "metadata": {},
   "outputs": [
    {
     "ename": "NameError",
     "evalue": "name 'A' is not defined",
     "output_type": "error",
     "traceback": [
      "\u001b[1;31m---------------------------------------------------------------------------\u001b[0m",
      "\u001b[1;31mNameError\u001b[0m                                 Traceback (most recent call last)",
      "\u001b[1;32m<ipython-input-25-3a77fc20741c>\u001b[0m in \u001b[0;36m<module>\u001b[1;34m\u001b[0m\n\u001b[0;32m      1\u001b[0m \u001b[0mx\u001b[0m\u001b[1;33m=\u001b[0m\u001b[1;34m\"ABCD AABB ABC AAABC\"\u001b[0m\u001b[1;33m\u001b[0m\u001b[1;33m\u001b[0m\u001b[0m\n\u001b[0;32m      2\u001b[0m \u001b[0mlist\u001b[0m\u001b[1;33m=\u001b[0m\u001b[1;33m[\u001b[0m\u001b[1;33m]\u001b[0m\u001b[1;33m\u001b[0m\u001b[1;33m\u001b[0m\u001b[0m\n\u001b[1;32m----> 3\u001b[1;33m \u001b[0ml\u001b[0m\u001b[1;33m=\u001b[0m\u001b[1;33m[\u001b[0m\u001b[0mA\u001b[0m\u001b[1;33m-\u001b[0m\u001b[0mZ\u001b[0m\u001b[1;33m]\u001b[0m\u001b[1;33m\u001b[0m\u001b[1;33m\u001b[0m\u001b[0m\n\u001b[0m",
      "\u001b[1;31mNameError\u001b[0m: name 'A' is not defined"
     ]
    }
   ],
   "source": [
    "x=\"ABCD AABB ABC AAABC\"\n",
    "l=[]\n",
    "l\n",
    "for i in list:\n",
    "    if i in l:\n",
    "        k=l.index(i)\n",
    "        c=\n",
    "        "
   ]
  },
  {
   "cell_type": "code",
   "execution_count": null,
   "metadata": {},
   "outputs": [],
   "source": [
    "# 1. Function to create a file and write to the file\n",
    "# 2. Function to read of the file\n",
    "# 3. Word Count Program-Count the number of words present in the text file.\n",
    "# 4. Count the number of characters from the given file\n",
    "# 5. Function to find the no of lines in the input file\n",
    "#        Input -- filename(file2.txt)\n",
    "#        Output -- No of Lines(12)\n",
    "# 6. Function to print the Upper and Lower characters from the given file.\n"
   ]
  },
  {
   "cell_type": "code",
   "execution_count": null,
   "metadata": {},
   "outputs": [],
   "source": [
    "# 1. The program must accept an integer N the input. The program must print the desired pattern as shown in the Example Input/Output section.\n",
    "\n",
    "# Input Format:\n",
    "\n",
    "# The first line contains the value of N.\n",
    "\n",
    "# Output Format:\n",
    "\n",
    "# The list of lines containing the desired pattern as shown in the Example Input/Output sections.\n",
    "\n",
    "# Example Input/Output 1:\n",
    "\n",
    "# Input:\n",
    "\n",
    "# 41325\n",
    "\n",
    "# Output:\n",
    "\n",
    "# |****\n",
    "\n",
    "# |*\n",
    "\n",
    "# |***\n",
    "\n",
    "# |**\n",
    "\n",
    "# |*****\n",
    "\n",
    "# Example Input/Output 2:\n",
    "\n",
    "# Input:\n",
    "\n",
    "# 60710\n",
    "\n",
    "# Output:\n",
    "\n",
    "# |******\n",
    "\n",
    "# |\n",
    "\n",
    "# |*******\n",
    "\n",
    "# |*\n",
    "\n",
    "# |"
   ]
  },
  {
   "cell_type": "code",
   "execution_count": null,
   "metadata": {},
   "outputs": [],
   "source": [
    "n=int(input(\"enter a value\"))\n",
    "l=[]\n",
    "while n>0:\n",
    "    rem=n%10\n",
    "    l.append(rem)\n",
    "    n=n//10\n",
    "l\n",
    "x=l[::-1] \n",
    "x\n",
    "for i in x:\n",
    "    print(i*\"*\")\n",
    "    "
   ]
  },
  {
   "cell_type": "code",
   "execution_count": null,
   "metadata": {},
   "outputs": [
    {
     "name": "stdout",
     "output_type": "stream",
     "text": [
      "enter a value :123\n"
     ]
    }
   ],
   "source": [
    "n=int(input(\"enter a value :\"))\n",
    "l=[]\n",
    "while n>0:\n",
    "    rem=n%10\n",
    "    l.append(rem)\n",
    "    n=n//10\n",
    "l\n"
   ]
  },
  {
   "cell_type": "code",
   "execution_count": 2,
   "metadata": {},
   "outputs": [
    {
     "name": "stdout",
     "output_type": "stream",
     "text": [
      "enter a namekotireddy\n",
      "ydderitok\n"
     ]
    }
   ],
   "source": [
    "#2.  Write a Python program that accepts a word from the user and reverse it. \n",
    "\n",
    "n=input(\"enter a name\")\n",
    "k=n[::-1]\n",
    "print(k)"
   ]
  },
  {
   "cell_type": "code",
   "execution_count": 26,
   "metadata": {},
   "outputs": [
    {
     "name": "stdout",
     "output_type": "stream",
     "text": [
      "0\n",
      "1\n",
      "2\n",
      "4\n",
      "5\n"
     ]
    }
   ],
   "source": [
    "#3. Write a Python program that prints all the numbers from 0 to 6 except 3 and 6. \n",
    "\n",
    "for i in range(0,7):\n",
    "    if i==3 or i==6:\n",
    "        pass\n",
    "    else:\n",
    "        print(i)\n",
    "   \n"
   ]
  },
  {
   "cell_type": "code",
   "execution_count": null,
   "metadata": {},
   "outputs": [],
   "source": [
    "# 4.  Write a Python program that accepts a string and calculate the number of digits and letters. \n",
    "#          Input: Python 3.6\n",
    "#         Expected Output :\n",
    "#                   Letters 6\n",
    "#                   Digits 2 \n",
    "n="
   ]
  },
  {
   "cell_type": "code",
   "execution_count": 51,
   "metadata": {},
   "outputs": [
    {
     "ename": "TypeError",
     "evalue": "'int' object is not iterable",
     "output_type": "error",
     "traceback": [
      "\u001b[1;31m---------------------------------------------------------------------------\u001b[0m",
      "\u001b[1;31mTypeError\u001b[0m                                 Traceback (most recent call last)",
      "\u001b[1;32m<ipython-input-51-cc7659f4b716>\u001b[0m in \u001b[0;36m<module>\u001b[1;34m\u001b[0m\n\u001b[0;32m      8\u001b[0m \u001b[0mc\u001b[0m\u001b[1;33m=\u001b[0m\u001b[1;33m(\u001b[0m\u001b[1;34m\"Kotireddy@123\"\u001b[0m\u001b[1;33m)\u001b[0m\u001b[1;33m\u001b[0m\u001b[1;33m\u001b[0m\u001b[0m\n\u001b[0;32m      9\u001b[0m \u001b[0mn\u001b[0m\u001b[1;33m=\u001b[0m\u001b[0mlen\u001b[0m\u001b[1;33m(\u001b[0m\u001b[0mc\u001b[0m\u001b[1;33m)\u001b[0m\u001b[1;33m\u001b[0m\u001b[1;33m\u001b[0m\u001b[0m\n\u001b[1;32m---> 10\u001b[1;33m \u001b[1;32mfor\u001b[0m \u001b[0mi\u001b[0m \u001b[1;32min\u001b[0m \u001b[0mn\u001b[0m\u001b[1;33m:\u001b[0m\u001b[1;33m\u001b[0m\u001b[1;33m\u001b[0m\u001b[0m\n\u001b[0m\u001b[0;32m     11\u001b[0m     \u001b[1;32mif\u001b[0m \u001b[0mi\u001b[0m\u001b[1;33m<=\u001b[0m\u001b[1;36m6\u001b[0m \u001b[1;32mand\u001b[0m \u001b[0mi\u001b[0m\u001b[1;33m>=\u001b[0m\u001b[1;36m16\u001b[0m\u001b[1;33m:\u001b[0m\u001b[1;33m\u001b[0m\u001b[1;33m\u001b[0m\u001b[0m\n\u001b[0;32m     12\u001b[0m         \u001b[0mprint\u001b[0m\u001b[1;33m(\u001b[0m\u001b[0mi\u001b[0m\u001b[1;33m)\u001b[0m\u001b[1;33m\u001b[0m\u001b[1;33m\u001b[0m\u001b[0m\n",
      "\u001b[1;31mTypeError\u001b[0m: 'int' object is not iterable"
     ]
    }
   ],
   "source": [
    "# 5. Write a Python program to check the validity of password input by users. \n",
    "# Validation :\n",
    "# At least 1 letter between [a-z] and 1 letter between [A-Z].\n",
    "# At least 1 number between [0-9].\n",
    "# At least 1 character from [$#@].\n",
    "# Minimum length 6 characters.\n",
    "# Maximum length 16 characters\n",
    "c=(\"Kotireddy@123\")\n",
    "n=len(c)\n",
    "for i in n:\n",
    "    if i<=6 and i>=16:\n",
    "        print(i)\n",
    "        if ord(i)>=97 and ord(i)<=122:\n",
    "            if ord(i)<=65 and ord(i)>=90:\n",
    "                if ord(i)>=48 and ord(i)<=57:\n",
    "                    if i!=\"#\" and i!=\"$\" and i!=\"@\":\n",
    "                        print(\" please provide valid name\")\n",
    "    else:\n",
    "        print(\"valid\")"
   ]
  },
  {
   "cell_type": "code",
   "execution_count": 33,
   "metadata": {},
   "outputs": [
    {
     "data": {
      "text/plain": [
       "48"
      ]
     },
     "execution_count": 33,
     "metadata": {},
     "output_type": "execute_result"
    }
   ],
   "source": [
    "ord(\"0\")"
   ]
  },
  {
   "cell_type": "code",
   "execution_count": 1,
   "metadata": {},
   "outputs": [
    {
     "name": "stdout",
     "output_type": "stream",
     "text": [
      "enter name::kotiREDDY@123\n",
      "not valid\n",
      "not valid\n",
      "not valid\n",
      "not valid\n",
      "not valid\n",
      "not valid\n"
     ]
    }
   ],
   "source": [
    "c=input(\"enter name::\")\n",
    "n=len(c)\n",
    "for i in c:\n",
    "    if n<=6 and n>=16:\n",
    "        print(\"valid\")\n",
    "    elif ord(i)>=97 and ord(i)<=122:\n",
    "        pass\n",
    "    elif ord(i)<=65 and ord(i)>=90:\n",
    "        pass\n",
    "    elif ord(i)>=48 and ord(i)<=57:\n",
    "        pass\n",
    "    elif i==\"#\" and i==\"$\" and i==\"@\":\n",
    "        print(\"valid\")\n",
    "    else:\n",
    "        print(\"not valid\")"
   ]
  },
  {
   "cell_type": "code",
   "execution_count": 19,
   "metadata": {},
   "outputs": [
    {
     "name": "stdout",
     "output_type": "stream",
     "text": [
      "enter nameo\n",
      "vowel o\n"
     ]
    }
   ],
   "source": [
    "# 6.  Write a Python program to check whether an alphabet is a vowel or consonant. \n",
    "#      Expected Output:\n",
    "#     Input a letter of the alphabet: k                                       \n",
    "#     k is a consonant.\n",
    "n=input(\"enter name\")\n",
    "c=[\"a\",\"e\",\"i\",\"o\",\"u\"]\n",
    "if n in c:\n",
    "    print(\"vowel\",n)\n",
    "else:\n",
    "    print(\" consonent\",n)"
   ]
  },
  {
   "cell_type": "code",
   "execution_count": 2,
   "metadata": {},
   "outputs": [
    {
     "name": "stdout",
     "output_type": "stream",
     "text": [
      "enter a namefghjkl;8520\n",
      "string\n"
     ]
    }
   ],
   "source": [
    "# 7. Write a Python program to check a string represent an integer or not.\n",
    "#    Expected Output:\n",
    "#       Input a string: Python                                                  \n",
    "#       The string is not an integer. \n",
    "k=input(\"enter a name\")\n",
    "s=0\n",
    "for c in k:\n",
    "    if ord(c)>=97 and ord(c)<=122:\n",
    "        s=s+1\n",
    "    elif ord(c)>=65 and ord(c)<=90:\n",
    "        s=s+1\n",
    "if s==0:\n",
    "    print(\"integer\")\n",
    "else:\n",
    "    print(\"string\")"
   ]
  },
  {
   "cell_type": "code",
   "execution_count": null,
   "metadata": {},
   "outputs": [],
   "source": []
  },
  {
   "cell_type": "code",
   "execution_count": null,
   "metadata": {},
   "outputs": [],
   "source": []
  }
 ],
 "metadata": {
  "kernelspec": {
   "display_name": "Python 3",
   "language": "python",
   "name": "python3"
  },
  "language_info": {
   "codemirror_mode": {
    "name": "ipython",
    "version": 3
   },
   "file_extension": ".py",
   "mimetype": "text/x-python",
   "name": "python",
   "nbconvert_exporter": "python",
   "pygments_lexer": "ipython3",
   "version": "3.7.4"
  }
 },
 "nbformat": 4,
 "nbformat_minor": 2
}
