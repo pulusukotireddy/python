{
 "cells": [
  {
   "cell_type": "code",
   "execution_count": null,
   "metadata": {},
   "outputs": [],
   "source": []
  },
  {
   "cell_type": "code",
   "execution_count": null,
   "metadata": {},
   "outputs": [],
   "source": [
    "a=\"hi hello world welcome to python dad madam\"\n",
    "l=[]\n",
    "l=a.split()\n",
    "for i in l:\n",
    "    x=i[::-1]\n",
    "    if i==x:\n",
    "        l.append(i)\n",
    "k=sorted(l)\n",
    "k\n",
    "print(k[0])\n",
    "print(k[-1])\n",
    "        "
   ]
  },
  {
   "cell_type": "code",
   "execution_count": null,
   "metadata": {},
   "outputs": [],
   "source": [
    "# create a folder\n",
    "# random number of files inside that filder\n",
    "# all the file name should be uniq\n",
    "import os\n",
    "path=os.getcwd()\n",
    "path\n"
   ]
  },
  {
   "cell_type": "code",
   "execution_count": null,
   "metadata": {},
   "outputs": [],
   "source": [
    "a=\"hi hello world welcome to python dad madam\"\n",
    "l=[]\n",
    "l=a.split()\n",
    "for i in l:\n",
    "    x=i[::-1]\n",
    "    if i==x:\n",
    "        l.append(i)\n",
    "k=sorted(l)\n",
    "k\n",
    "print(k[0])\n",
    "print(k[-1])\n",
    "        "
   ]
  },
  {
   "cell_type": "code",
   "execution_count": null,
   "metadata": {},
   "outputs": [],
   "source": []
  }
 ],
 "metadata": {
  "kernelspec": {
   "display_name": "Python 3",
   "language": "python",
   "name": "python3"
  },
  "language_info": {
   "codemirror_mode": {
    "name": "ipython",
    "version": 3
   },
   "file_extension": ".py",
   "mimetype": "text/x-python",
   "name": "python",
   "nbconvert_exporter": "python",
   "pygments_lexer": "ipython3",
   "version": "3.7.4"
  }
 },
 "nbformat": 4,
 "nbformat_minor": 2
}
