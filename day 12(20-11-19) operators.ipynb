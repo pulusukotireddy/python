{
 "cells": [
  {
   "cell_type": "markdown",
   "metadata": {},
   "source": [
    "# Python Operators"
   ]
  },
  {
   "cell_type": "markdown",
   "metadata": {},
   "source": [
    "#### 1.operator is a math symbol,it is usedin perform a perticular task.\n",
    "#### 2.Operators are used to perform operations on variables and values.\n",
    "\n",
    "#### Ex. 1. \" a+b \"    a,b are operands or variables,\" + \" is a operator.\n",
    "####     2. \" a>b \"    a,b are variables , \" > \" is a operator.\n",
    "\n"
   ]
  },
  {
   "cell_type": "markdown",
   "metadata": {},
   "source": [
    " ## Python supports 6 types of operators\n",
    "    1.Arithematic operators\n",
    "    2.Relational operators\n",
    "    3.Logical operators\n",
    "    4.Bitwise operators\n",
    "    5.Assignment operators\n",
    "    6.Special operators"
   ]
  },
  {
   "cell_type": "markdown",
   "metadata": {},
   "source": [
    "## 1.Arithematic operators\n",
    "                       \n",
    "                       this arithematic operator are used to calculation purpose only,always writen a value.\n",
    "    \n",
    "    operators:              meaning:\n",
    "    \n",
    "        +                   addition\n",
    "        -                   subtraction  \n",
    "        *                   multiplication\n",
    "        /                   division\n",
    "        %                   reminder (or) module\n",
    "        //                  floor division\n",
    "        **                  exponent\n",
    " "
   ]
  },
  {
   "cell_type": "markdown",
   "metadata": {},
   "source": [
    "#### ex. "
   ]
  },
  {
   "cell_type": "code",
   "execution_count": 2,
   "metadata": {},
   "outputs": [
    {
     "name": "stdout",
     "output_type": "stream",
     "text": [
      "30\n",
      "-10\n",
      "200\n",
      "0.5\n",
      "10\n",
      "0\n",
      "100000000000000000000\n"
     ]
    }
   ],
   "source": [
    "a=10\n",
    "b=20\n",
    "print(a+b)\n",
    "print(a-b)\n",
    "print(a*b)\n",
    "print(a/b)\n",
    "print(a%b)\n",
    "print(a//b)\n",
    "print(a**b)"
   ]
  },
  {
   "cell_type": "markdown",
   "metadata": {},
   "source": [
    "## 2. Relational operator\n",
    "                                  are used to comparison purpose only it writens either True or False\n",
    "                                  \n",
    "                                  \n",
    " operators:              meaning:\n",
    "    \n",
    "        <                 lessthan\n",
    "        >                 greaterthan  \n",
    "        <=                lessthan are equal to\n",
    "        >=                greater than are equal to\n",
    "        ==                equal to equal\n",
    "        !=                not equal to\n",
    "       "
   ]
  },
  {
   "cell_type": "markdown",
   "metadata": {},
   "source": [
    "### Ex."
   ]
  },
  {
   "cell_type": "code",
   "execution_count": 3,
   "metadata": {},
   "outputs": [
    {
     "name": "stdout",
     "output_type": "stream",
     "text": [
      "True\n",
      "False\n",
      "True\n",
      "False\n",
      "False\n",
      "True\n"
     ]
    }
   ],
   "source": [
    "a=10\n",
    "b=15\n",
    "print(a<b)\n",
    "print(a>b)\n",
    "print(a<=b)\n",
    "print(a>=b)\n",
    "print(a==b)\n",
    "print(a!=b)"
   ]
  },
  {
   "cell_type": "markdown",
   "metadata": {},
   "source": [
    "## 3. Logical operator\n",
    "                      this are also used to comparison of  two or more relational expressions\n",
    " \n",
    " ####  Python supports 3 types :\n",
    "#### Operator\t::::::::::::::::    Description\n",
    "     and \t  Returns True if both statements are true\t\n",
    "     or  \t  Returns True if one of the statements is true\t\t\n",
    "     not\t  Reverse the result, returns False if the result is true"
   ]
  },
  {
   "cell_type": "code",
   "execution_count": null,
   "metadata": {},
   "outputs": [],
   "source": [
    "### logical and :\n"
   ]
  }
 ],
 "metadata": {
  "kernelspec": {
   "display_name": "Python 3",
   "language": "python",
   "name": "python3"
  },
  "language_info": {
   "codemirror_mode": {
    "name": "ipython",
    "version": 3
   },
   "file_extension": ".py",
   "mimetype": "text/x-python",
   "name": "python",
   "nbconvert_exporter": "python",
   "pygments_lexer": "ipython3",
   "version": "3.7.4"
  }
 },
 "nbformat": 4,
 "nbformat_minor": 2
}
