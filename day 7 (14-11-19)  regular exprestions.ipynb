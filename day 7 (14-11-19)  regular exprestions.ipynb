{
 "cells": [
  {
   "cell_type": "code",
   "execution_count": null,
   "metadata": {},
   "outputs": [],
   "source": [
    "f=open(\"kotireddy.txt\",\"w\")"
   ]
  },
  {
   "cell_type": "markdown",
   "metadata": {},
   "source": [
    "# Regular exprestions\n",
    "\n",
    "### Escape Characters- Meta Characters "
   ]
  },
  {
   "cell_type": "code",
   "execution_count": null,
   "metadata": {},
   "outputs": [],
   "source": [
    "[] - set of charectars\n",
    "\\  - signals a special seqence\n",
    ".  - Any character (except new line character)\n",
    "^  - starts with\n",
    "$  - ends with\n",
    "*  - zero or more occurences\n",
    "+  - one or more occurences\n",
    "{}  - exactly the specified number of occurence\n",
    "|   - either or\n",
    "()  -capture the group"
   ]
  },
  {
   "cell_type": "markdown",
   "metadata": {},
   "source": [
    "# special sequences"
   ]
  },
  {
   "cell_type": "code",
   "execution_count": null,
   "metadata": {},
   "outputs": [],
   "source": [
    "\\A  Returns a match if the specified characters are at the beginning of the string\n",
    "\\b  Returns a match where the specified characters are at the begining  or at the end ofthe word"
   ]
  },
  {
   "cell_type": "code",
   "execution_count": null,
   "metadata": {},
   "outputs": [],
   "source": [
    "^ - match the start of the string\n",
    "$ - match the end of the string\n",
    "\\d - matches a digit\n",
    "\\D - matches a non-digits\n",
    "\\s - white space\n",
    "\\S - non whitespace\n",
    "\\w - matches a word\n",
    "\\W - matches a non-alphabet"
   ]
  },
  {
   "cell_type": "markdown",
   "metadata": {},
   "source": [
    "# Methods\n",
    "\n",
    "    .  match\n",
    "    . findall\n",
    "    . search\n",
    "    ."
   ]
  },
  {
   "cell_type": "code",
   "execution_count": 13,
   "metadata": {},
   "outputs": [
    {
     "name": "stdout",
     "output_type": "stream",
     "text": [
      "python\n",
      "ping\n",
      "php\n",
      "java\n"
     ]
    }
   ],
   "source": [
    "import re\n",
    "list=[\"python py\",\"ping abc\",\"php\",\"java\"]\n",
    "for x in list:\n",
    "    c = re.match(r\"(\\w+\\w+)\",x)\n",
    "    print(c.group())"
   ]
  },
  {
   "cell_type": "code",
   "execution_count": 9,
   "metadata": {},
   "outputs": [
    {
     "data": {
      "text/plain": [
       "['siri: ', 'siri: ']"
      ]
     },
     "execution_count": 9,
     "metadata": {},
     "output_type": "execute_result"
    }
   ],
   "source": [
    "list=\"  siri: \"\n",
    "re.findall(r\"(\\w+\\:\\s)\",list)"
   ]
  },
  {
   "cell_type": "code",
   "execution_count": 11,
   "metadata": {},
   "outputs": [
    {
     "data": {
      "text/plain": [
       "'partys: '"
      ]
     },
     "execution_count": 11,
     "metadata": {},
     "output_type": "execute_result"
    }
   ],
   "source": [
    "list=\"i like partys: pubs and partys: restarents\"\n",
    "re.search(r\"(\\w+\\:\\s)\",list).group()"
   ]
  },
  {
   "cell_type": "code",
   "execution_count": 3,
   "metadata": {},
   "outputs": [
    {
     "name": "stdout",
     "output_type": "stream",
     "text": [
      "The first white-space character is located in position:  \n"
     ]
    }
   ],
   "source": [
    "import re\n",
    "\n",
    "str = \"The rain in Spain\"\n",
    "x = re.search(\"\\s\", str)\n",
    "\n",
    "print(\"The first white-space character is located in position:\", x.group()) \n"
   ]
  },
  {
   "cell_type": "code",
   "execution_count": 3,
   "metadata": {},
   "outputs": [
    {
     "data": {
      "text/plain": [
       "[' i like ', 'cat and ', 'dogs']"
      ]
     },
     "execution_count": 3,
     "metadata": {},
     "output_type": "execute_result"
    }
   ],
   "source": [
    "import re\n",
    "c=\" i like pets: cat and pets: dogs\"\n",
    "re.split(r\"\\w+\\:\\s\",c)"
   ]
  },
  {
   "cell_type": "code",
   "execution_count": 11,
   "metadata": {},
   "outputs": [
    {
     "data": {
      "text/plain": [
       "' i likes  dogs and  cats'"
      ]
     },
     "execution_count": 11,
     "metadata": {},
     "output_type": "execute_result"
    }
   ],
   "source": [
    "import re\n",
    "c=\" i likes pets:dogs and pets:cats\"\n",
    "re.sub(r\"\\w+\\:\",\" \",c)"
   ]
  },
  {
   "cell_type": "code",
   "execution_count": null,
   "metadata": {},
   "outputs": [],
   "source": [
    "x|y|z"
   ]
  },
  {
   "cell_type": "code",
   "execution_count": 1,
   "metadata": {},
   "outputs": [
    {
     "ename": "SyntaxError",
     "evalue": "invalid syntax (<ipython-input-1-484ba72f7134>, line 1)",
     "output_type": "error",
     "traceback": [
      "\u001b[1;36m  File \u001b[1;32m\"<ipython-input-1-484ba72f7134>\"\u001b[1;36m, line \u001b[1;32m1\u001b[0m\n\u001b[1;33m    ruby{3}\u001b[0m\n\u001b[1;37m        ^\u001b[0m\n\u001b[1;31mSyntaxError\u001b[0m\u001b[1;31m:\u001b[0m invalid syntax\n"
     ]
    }
   ],
   "source": [
    "ruby{3}"
   ]
  },
  {
   "cell_type": "code",
   "execution_count": null,
   "metadata": {},
   "outputs": [],
   "source": []
  }
 ],
 "metadata": {
  "kernelspec": {
   "display_name": "Python 3",
   "language": "python",
   "name": "python3"
  },
  "language_info": {
   "codemirror_mode": {
    "name": "ipython",
    "version": 3
   },
   "file_extension": ".py",
   "mimetype": "text/x-python",
   "name": "python",
   "nbconvert_exporter": "python",
   "pygments_lexer": "ipython3",
   "version": "3.7.4"
  }
 },
 "nbformat": 4,
 "nbformat_minor": 2
}
